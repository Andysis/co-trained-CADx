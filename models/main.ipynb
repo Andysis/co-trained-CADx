{
 "cells": [
  {
   "cell_type": "code",
   "execution_count": 1,
   "metadata": {
    "collapsed": false
   },
   "outputs": [],
   "source": [
    "import cv2\n",
    "import numpy as np\n",
    "import lmdb\n",
    "import sys,os\n",
    "import caffe\n",
    "import random"
   ]
  },
  {
   "cell_type": "code",
   "execution_count": 2,
   "metadata": {
    "collapsed": false
   },
   "outputs": [],
   "source": [
    "def load_txt(txt, shuffle):  \n",
    "    if txt == None:  \n",
    "        print \"txtpath!!!\"  \n",
    "        exit(0)  \n",
    "    if not os.path.exists(txt):  \n",
    "         print \"the txt is't exists\"  \n",
    "         exit(0)  \n",
    "    flag = 0  \n",
    "    file_content = []  \n",
    "    txt_file = open(txt, 'r')  \n",
    "    for line in open(txt, 'r'):  \n",
    "        line = txt_file.readline()  \n",
    "        list = line.split()  \n",
    "        file_content.append([list[0],list[1]])  \n",
    "        flag += 1   \n",
    "    if shuffle == 1:\n",
    "        random.shuffle(file_content)  \n",
    "    return file_content  "
   ]
  },
  {
   "cell_type": "markdown",
   "metadata": {},
   "source": [
    "## change the path name"
   ]
  },
  {
   "cell_type": "code",
   "execution_count": 3,
   "metadata": {
    "collapsed": true
   },
   "outputs": [],
   "source": [
    "adc_train_prefix=\"/home/lcy/WORKSPACE/CAM/models/Prostate/ADC/ADCTRAIN/\"\n",
    "t2_train_prefix=\"/home/lcy/WORKSPACE/CAM/models/Prostate/T2/T2TRAIN/\"\n",
    "lmdb_path=\"/home/lcy/WORKSPACE/CAM/models/Prostate/multimodal_lmdb_train_test\""
   ]
  },
  {
   "cell_type": "markdown",
   "metadata": {},
   "source": [
    "## change the txt file name"
   ]
  },
  {
   "cell_type": "code",
   "execution_count": 4,
   "metadata": {
    "collapsed": false
   },
   "outputs": [],
   "source": [
    "content = []    \n",
    "content = load_txt(\"/home/lcy/WORKSPACE/CAM/models/Prostate/trainname.txt\", 1)#加载图片名字和label"
   ]
  },
  {
   "cell_type": "code",
   "execution_count": 5,
   "metadata": {
    "collapsed": false
   },
   "outputs": [
    {
     "name": "stdout",
     "output_type": "stream",
     "text": [
      "total:  8337\n"
     ]
    }
   ],
   "source": [
    "print 'total: ', len(content)"
   ]
  },
  {
   "cell_type": "code",
   "execution_count": 7,
   "metadata": {
    "collapsed": true
   },
   "outputs": [],
   "source": [
    "env = lmdb.Environment(lmdb_path, map_size=int(1e12))"
   ]
  },
  {
   "cell_type": "code",
   "execution_count": 8,
   "metadata": {
    "collapsed": false,
    "scrolled": true
   },
   "outputs": [
    {
     "name": "stdout",
     "output_type": "stream",
     "text": [
      "00000000\n",
      "\n",
      "00000100\n",
      "\n",
      "00000200\n",
      "\n",
      "00000300\n",
      "\n",
      "00000400\n",
      "\n",
      "00000500\n",
      "\n",
      "00000600\n",
      "\n",
      "00000700\n",
      "\n",
      "00000800\n",
      "\n",
      "00000900\n",
      "\n",
      "00001000\n",
      "\n",
      "00001100\n",
      "\n",
      "00001200\n",
      "\n",
      "00001300\n",
      "\n",
      "00001400\n",
      "\n",
      "00001500\n",
      "\n",
      "00001600\n",
      "\n",
      "00001700\n",
      "\n",
      "00001800\n",
      "\n",
      "00001900\n",
      "\n",
      "00002000\n",
      "\n",
      "00002100\n",
      "\n",
      "00002200\n",
      "\n",
      "00002300\n",
      "\n",
      "00002400\n",
      "\n",
      "00002500\n",
      "\n",
      "00002600\n",
      "\n",
      "00002700\n",
      "\n",
      "00002800\n",
      "\n",
      "00002900\n",
      "\n",
      "00003000\n",
      "\n",
      "00003100\n",
      "\n",
      "00003200\n",
      "\n",
      "00003300\n",
      "\n",
      "00003400\n",
      "\n",
      "00003500\n",
      "\n",
      "00003600\n",
      "\n",
      "00003700\n",
      "\n",
      "00003800\n",
      "\n",
      "00003900\n",
      "\n",
      "00004000\n",
      "\n",
      "00004100\n",
      "\n",
      "00004200\n",
      "\n",
      "00004300\n",
      "\n",
      "00004400\n",
      "\n",
      "00004500\n",
      "\n",
      "00004600\n",
      "\n",
      "00004700\n",
      "\n",
      "00004800\n",
      "\n",
      "00004900\n",
      "\n",
      "00005000\n",
      "\n",
      "00005100\n",
      "\n",
      "00005200\n",
      "\n",
      "00005300\n",
      "\n",
      "00005400\n",
      "\n",
      "00005500\n",
      "\n",
      "00005600\n",
      "\n",
      "00005700\n",
      "\n",
      "00005800\n",
      "\n",
      "00005900\n",
      "\n",
      "00006000\n",
      "\n",
      "00006100\n",
      "\n",
      "00006200\n",
      "\n",
      "00006300\n",
      "\n",
      "00006400\n",
      "\n",
      "00006500\n",
      "\n",
      "00006600\n",
      "\n",
      "00006700\n",
      "\n",
      "00006800\n",
      "\n",
      "00006900\n",
      "\n",
      "00007000\n",
      "\n",
      "00007100\n",
      "\n",
      "00007200\n",
      "\n",
      "00007300\n",
      "\n",
      "00007400\n",
      "\n",
      "00007500\n",
      "\n",
      "00007600\n",
      "\n",
      "00007700\n",
      "\n",
      "00007800\n",
      "\n",
      "00007900\n",
      "\n",
      "00008000\n",
      "\n",
      "00008100\n",
      "\n",
      "00008200\n",
      "\n",
      "00008300\n",
      "\n"
     ]
    }
   ],
   "source": [
    "with env.begin(write=True) as txn:  \n",
    "    # txn is a Transaction object  \n",
    "    for i in range(len(content)):  \n",
    "        datum = caffe.proto.caffe_pb2.Datum()  \n",
    "        adc_path = adc_train_prefix + content[i][0]  \n",
    "        t2_path = t2_train_prefix + content[i][0]  \n",
    "        label = int(content[i][1])\n",
    "        \n",
    "        adc_image=cv2.imread(adc_path, cv2.IMREAD_GRAYSCALE)\n",
    "        t2_image=cv2.imread(t2_path, cv2.IMREAD_GRAYSCALE)\n",
    "        \n",
    "        adc_image=cv2.resize(adc_image,(256,256))\n",
    "        t2_image=cv2.resize(t2_image,(256,256))\n",
    "        \n",
    "        datum.channels = 2#channels\n",
    "        datum.height = adc_image.shape[0]#height  \n",
    "        datum.width = adc_image.shape[1]#width  \n",
    "        data = np.zeros((2,  adc_image.shape[0],  adc_image.shape[1]), dtype=np.uint8)#初始化data\n",
    "        \n",
    "        data[0] = adc_image  \n",
    "        data[1] = t2_image  \n",
    "        datum.data = data.tostring() #data  \n",
    "        datum.label = int(label)#label  \n",
    "        str_id = '{:08}'.format(i)   #顺序+图片名字作为key\n",
    "        if i % 100 == 0:\n",
    "            print str_id + '\\n'\n",
    "        txn.put(str_id, datum.SerializeToString())  "
   ]
  },
  {
   "cell_type": "code",
   "execution_count": 11,
   "metadata": {
    "collapsed": true
   },
   "outputs": [],
   "source": [
    "env.close()"
   ]
  },
  {
   "cell_type": "markdown",
   "metadata": {},
   "source": [
    "# check randomly"
   ]
  },
  {
   "cell_type": "code",
   "execution_count": 12,
   "metadata": {
    "collapsed": false
   },
   "outputs": [],
   "source": [
    "env = lmdb.open(lmdb_path, readonly=True)\n",
    "with env.begin() as txn:\n",
    "    raw_datum = txn.get(b'00000100')\n",
    "\n",
    "datum = caffe.proto.caffe_pb2.Datum()\n",
    "datum.ParseFromString(raw_datum)\n",
    "\n",
    "flat_x = np.fromstring(datum.data, dtype=np.uint8)\n",
    "x = flat_x.reshape(datum.channels, datum.height, datum.width)\n",
    "y = datum.label"
   ]
  },
  {
   "cell_type": "code",
   "execution_count": 13,
   "metadata": {
    "collapsed": false
   },
   "outputs": [
    {
     "name": "stdout",
     "output_type": "stream",
     "text": [
      "(2, 256, 256)\n"
     ]
    }
   ],
   "source": [
    "print x.shape"
   ]
  },
  {
   "cell_type": "code",
   "execution_count": 14,
   "metadata": {
    "collapsed": false
   },
   "outputs": [],
   "source": [
    "temp_image=np.zeros((256,256,3),dtype='uint8')\n",
    "temp_image[:,:,0]=x[0]\n",
    "temp_image[:,:,1]=x[1]"
   ]
  },
  {
   "cell_type": "code",
   "execution_count": 15,
   "metadata": {
    "collapsed": false
   },
   "outputs": [
    {
     "data": {
      "text/plain": [
       "True"
      ]
     },
     "execution_count": 15,
     "metadata": {},
     "output_type": "execute_result"
    }
   ],
   "source": [
    "cv2.imwrite(\"/home/lcy/WORKSPACE/CAM/models/temp_image.png\",temp_image)"
   ]
  },
  {
   "cell_type": "code",
   "execution_count": null,
   "metadata": {
    "collapsed": true
   },
   "outputs": [],
   "source": []
  },
  {
   "cell_type": "code",
   "execution_count": null,
   "metadata": {
    "collapsed": true
   },
   "outputs": [],
   "source": []
  }
 ],
 "metadata": {
  "anaconda-cloud": {},
  "kernelspec": {
   "display_name": "Python [Root]",
   "language": "python",
   "name": "Python [Root]"
  },
  "language_info": {
   "codemirror_mode": {
    "name": "ipython",
    "version": 2
   },
   "file_extension": ".py",
   "mimetype": "text/x-python",
   "name": "python",
   "nbconvert_exporter": "python",
   "pygments_lexer": "ipython2",
   "version": "2.7.12"
  }
 },
 "nbformat": 4,
 "nbformat_minor": 1
}
